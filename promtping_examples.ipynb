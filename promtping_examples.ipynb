{
 "cells": [
  {
   "cell_type": "markdown",
   "metadata": {},
   "source": [
    "# Prompting examples"
   ]
  },
  {
   "cell_type": "code",
   "execution_count": 3,
   "metadata": {},
   "outputs": [],
   "source": [
    "import cohere\n",
    "import json\n",
    "import ipywidgets as widgets\n",
    "from IPython.display import display, clear_output\n",
    "from dotenv import load_dotenv\n",
    "import os"
   ]
  },
  {
   "cell_type": "code",
   "execution_count": 4,
   "metadata": {},
   "outputs": [],
   "source": [
    "load_dotenv()\n",
    "api_key = os.getenv(\"COHERE_API_KEY\")"
   ]
  },
  {
   "cell_type": "code",
   "execution_count": 5,
   "metadata": {},
   "outputs": [],
   "source": [
    "co = cohere.ClientV2()"
   ]
  },
  {
   "cell_type": "markdown",
   "metadata": {},
   "source": [
    "## Example n° 1: Entity extraction"
   ]
  },
  {
   "cell_type": "markdown",
   "metadata": {},
   "source": [
    "We will use the LLM to extract the following entities from the medical text.\n",
    "- Patient:\n",
    "  - Name\n",
    "  - Age\n",
    "- Admission date\n",
    "- Symptoms\n",
    "- Diagnosis\n",
    "- Recommended treatment\n",
    "\n",
    "The output will be a string in JSON format, which will be converted into a Python dictionary."
   ]
  },
  {
   "cell_type": "code",
   "execution_count": 6,
   "metadata": {},
   "outputs": [],
   "source": [
    "text_to_analyze = \"\"\"Jane Doe, a 34-year-old woman, was admitted to City General Hospital on May 15, 2024, due to a high fever and persistent cough./ \n",
    "After several tests, she was diagnosed with bronchitis. The attending physician, Dr. Michael Green, prescribed a course of antibiotics and rest./ \n",
    "The next evaluation is scheduled for May 22.\"\"\""
   ]
  },
  {
   "cell_type": "code",
   "execution_count": 7,
   "metadata": {},
   "outputs": [],
   "source": [
    "system_prompt = \"\"\"You are an expert in medical data extraction. \n",
    "Only extract relevant information from the text. \n",
    "If you do not know the value of an attribute, return an empty string.\"\"\""
   ]
  },
  {
   "cell_type": "code",
   "execution_count": 8,
   "metadata": {},
   "outputs": [],
   "source": [
    "json_sample_format = {\n",
    "  \"patient\": [{\n",
    "    \"name\": \"string\",\n",
    "    \"age\": \"integer\"\n",
    "  }],\n",
    "  \"admission_date\": \"string\",\n",
    "  \"symptoms\": [\n",
    "    \"string\"\n",
    "  ],\n",
    "  \"diagnosis\": \"string\",\n",
    "  \"treatment\": [\n",
    "    \"string\"\n",
    "  ]\n",
    "}\n",
    "\n",
    "\n",
    "prompt = f\"\"\" Extract the following attributes from the text\n",
    "\n",
    "    ### \n",
    "    Attributes to extract:\n",
    "    - name = patient's name\n",
    "    - age = patient's age\n",
    "    - admission_date = date the patient is admitted to the medical facility\n",
    "    - symptoms = list of symptoms the patient presents\n",
    "    - diagnosis = diagnosis given to the patient\n",
    "    - treatment = treatment to be carried out\n",
    "\n",
    "    ###\n",
    "    Text:\n",
    "    {text_to_analyze}\n",
    "    \n",
    "    ###\n",
    "    Remember, the output must be in JSON format with the following structure:\n",
    "\n",
    "    {json.dumps(json_sample_format, indent=2)}\n",
    "\"\"\"\n"
   ]
  },
  {
   "cell_type": "code",
   "execution_count": 9,
   "metadata": {},
   "outputs": [
    {
     "name": "stdout",
     "output_type": "stream",
     "text": [
      "{\n",
      "  \"patient\": [\n",
      "    {\n",
      "      \"name\": \"Jane Doe\",\n",
      "      \"age\": \"34\"\n",
      "    }\n",
      "  ],\n",
      "  \"admission_date\": \"May 15, 2024\",\n",
      "  \"symptoms\": [\n",
      "    \"high fever\",\n",
      "    \"persistent cough\"\n",
      "  ],\n",
      "  \"diagnosis\": \"bronchitis\",\n",
      "  \"treatment\": [\n",
      "    \"antibiotics\",\n",
      "    \"rest\"\n",
      "  ]\n",
      "}\n"
     ]
    }
   ],
   "source": [
    "response = co.chat(\n",
    "    model=\"command-r-plus-08-2024\",\n",
    "    messages=[{\"role\": \"system\", \"content\": system_prompt},\n",
    "             {\"role\": \"user\", \"content\": prompt}],\n",
    "    )\n",
    "\n",
    "print(response.message.content[0].text)"
   ]
  },
  {
   "cell_type": "code",
   "execution_count": 10,
   "metadata": {},
   "outputs": [
    {
     "name": "stdout",
     "output_type": "stream",
     "text": [
      "{\n",
      "  \"patient\": [\n",
      "    {\n",
      "      \"name\": \"Jane Doe\",\n",
      "      \"age\": \"34\"\n",
      "    }\n",
      "  ],\n",
      "  \"admission_date\": \"May 15, 2024\",\n",
      "  \"symptoms\": [\n",
      "    \"high fever\",\n",
      "    \"persistent cough\"\n",
      "  ],\n",
      "  \"diagnosis\": \"bronchitis\",\n",
      "  \"treatment\": [\n",
      "    \"antibiotics\",\n",
      "    \"rest\"\n",
      "  ]\n",
      "}\n"
     ]
    }
   ],
   "source": [
    "final_result = (response.message.content[0].text)\n",
    "print(final_result)"
   ]
  },
  {
   "cell_type": "markdown",
   "metadata": {},
   "source": [
    "## Example n° 2: Function calling"
   ]
  },
  {
   "cell_type": "code",
   "execution_count": 11,
   "metadata": {},
   "outputs": [],
   "source": [
    "contacts = {\n",
    "'Pedro Sander':{'tel': 15456663258, 'mail': 'PedritoElSander@gmail.com'},\n",
    "'Flavio Oncativo':{'tel': 1545554178, 'mail': 'FOncativo@hotmail.com'}\n",
    "}"
   ]
  },
  {
   "cell_type": "code",
   "execution_count": 12,
   "metadata": {},
   "outputs": [],
   "source": [
    "def add_contact(name, phone, email):\n",
    "    \"\"\"\n",
    "    Adds a contact to the dictionary.\n",
    "    Parameters:\n",
    "        name (str): Contact's name.\n",
    "        phone (str): Contact's phone number.\n",
    "        email (str): Contact's email address.\n",
    "    Returns:\n",
    "        str: Message confirming the addition of the contact.\n",
    "    \"\"\"\n",
    "    contacts[name] = {'phone': phone, 'email': email}\n",
    "    return {'Response': \"Contact added successfully.\"}\n",
    "\n",
    "def get_information(name):\n",
    "    \"\"\"\n",
    "    Retrieves contact information.\n",
    "    Parameters:\n",
    "        name (str): Contact's name.\n",
    "    Returns:\n",
    "        dict/str: Contact information or a message if the contact does not exist.\n",
    "    \"\"\"\n",
    "    if name in contacts:\n",
    "        return contacts[name]\n",
    "    else:\n",
    "        return {'Response': \"Contact not found.\"}\n"
   ]
  },
  {
   "cell_type": "code",
   "execution_count": 13,
   "metadata": {},
   "outputs": [],
   "source": [
    "tools = [\n",
    "    {\n",
    "        \"type\": \"function\",\n",
    "        \"function\": {\n",
    "            \"name\": \"add_contact\",\n",
    "            \"description\": \"Adds a contact to the directory.\",\n",
    "            \"parameters\": {\n",
    "                \"type\": \"object\",\n",
    "                \"properties\": {\n",
    "                    \"name\": {\n",
    "                        \"type\": \"string\",\n",
    "                        \"description\": \"Contact's name.\"\n",
    "                    },\n",
    "                    \"phone\": {\n",
    "                        \"type\": \"string\",\n",
    "                        \"description\": \"Contact's phone number.\"\n",
    "                    },\n",
    "                    \"email\": {\n",
    "                        \"type\": \"string\",\n",
    "                        \"description\": \"Contact's email address.\"\n",
    "                    }\n",
    "                },\n",
    "                \"required\": [\"name\", \"phone\", \"email\"]\n",
    "            }\n",
    "        }\n",
    "    },\n",
    "    {\n",
    "        \"type\": \"function\",\n",
    "        \"function\": {\n",
    "            \"name\": \"get_information\",\n",
    "            \"description\": \"Retrieves contact information.\",\n",
    "            \"parameters\": {\n",
    "                \"type\": \"object\",\n",
    "                \"properties\": {\n",
    "                    \"name\": {\n",
    "                        \"type\": \"string\",\n",
    "                        \"description\": \"Contact's name.\"\n",
    "                    }\n",
    "                },\n",
    "                \"required\": [\"name\"]\n",
    "            }\n",
    "        }\n",
    "    }\n",
    "]"
   ]
  },
  {
   "cell_type": "code",
   "execution_count": 14,
   "metadata": {},
   "outputs": [],
   "source": [
    "functions_map = {\n",
    "    \"add_contact\": add_contact,\n",
    "    \"get_information\": get_information\n",
    "}"
   ]
  },
  {
   "cell_type": "code",
   "execution_count": 15,
   "metadata": {},
   "outputs": [],
   "source": [
    "system_prompt = \"\"\"You are an assistant specialized in managing a contact directory and answering related queries.\n",
    "\n",
    "Your capabilities include:\n",
    "- Adding new contacts with their name, phone number, and email\n",
    "- Retrieving contact information\n",
    "- Answering questions about stored contacts\n",
    "- Using search tools when necessary to verify information\n",
    "\n",
    "Contact information must include:\n",
    "- Name (required)\n",
    "- Phone number (required)\n",
    "- Email address (required)\n",
    "- Additional notes (optional)\n",
    "\n",
    "You will maintain data privacy and only share contact information with authorized users.\"\"\""
   ]
  },
  {
   "cell_type": "code",
   "execution_count": 16,
   "metadata": {},
   "outputs": [
    {
     "name": "stdout",
     "output_type": "stream",
     "text": [
      "Who is Marta?\n"
     ]
    }
   ],
   "source": [
    "user_input = input(\"Ingrese su consulta\")\n",
    "print(user_input)"
   ]
  },
  {
   "cell_type": "code",
   "execution_count": 17,
   "metadata": {},
   "outputs": [],
   "source": [
    "messages=[{\"role\": \"system\", \"content\": system_prompt},\n",
    "          {\"role\": \"user\", \"content\": user_input}]\n",
    "\n",
    "response = co.chat(\n",
    "    model=\"command-r-plus-08-2024\",\n",
    "    messages=messages,\n",
    "    tools=tools\n",
    ")"
   ]
  },
  {
   "cell_type": "code",
   "execution_count": 18,
   "metadata": {},
   "outputs": [
    {
     "name": "stdout",
     "output_type": "stream",
     "text": [
      "Function call detected: Adding tool calls and plan to request\n"
     ]
    }
   ],
   "source": [
    "if response.message.tool_calls:\n",
    "    try:\n",
    "        print(\"Function call detected: Adding tool calls and plan to request\")\n",
    "        messages.append({\n",
    "            'role': 'assistant',\n",
    "            'tool_calls': response.message.tool_calls,\n",
    "            'tool_plan': response.message.tool_plan\n",
    "        })\n",
    "    except Exception as e:\n",
    "        print(f\"Error appending message: {e}\")\n",
    "else:\n",
    "    try:\n",
    "        print(\"Direct response: Outputting model's message\\n\")\n",
    "        print(response.message.content[0].text)\n",
    "    except IndexError:\n",
    "        print(\"Error: No content available in response\")"
   ]
  },
  {
   "cell_type": "code",
   "execution_count": 19,
   "metadata": {},
   "outputs": [],
   "source": [
    "tool_content_v2 = []\n",
    "# Iterate over the tool calls generated by the model\n",
    "for tc in response.message.tool_calls:\n",
    "    # here is where you would call the tool recommended by the model, using the parameters recommended by the model\n",
    "    tool_result= functions_map[tc.function.name](**json.loads(tc.function.arguments))\n",
    "    # store the output in a list\n",
    "    #tool_content.append(json.dumps(tool_result))\n",
    "    \n",
    "    for data in tool_result.items():\n",
    "        tool_content_v2.append({\"type\": \"document\", \"document\": {\"data\": json.dumps(data)}})\n",
    "        # Optional: add an \"id\" field in the \"document\" object, otherwise IDs are auto-generated\n",
    "   \n",
    "    # append the chat history\n",
    "    messages.append(\n",
    "        {\"role\": \"tool\", \"tool_call_id\": tc.id, \"content\": tool_content_v2}\n",
    "    )"
   ]
  },
  {
   "cell_type": "code",
   "execution_count": 20,
   "metadata": {},
   "outputs": [
    {
     "name": "stdout",
     "output_type": "stream",
     "text": [
      "I'm sorry, I can't find a contact by the name of Marta.\n"
     ]
    }
   ],
   "source": [
    "response = co.chat(\n",
    "    model=\"command-r-plus\",\n",
    "    messages=messages,\n",
    "    tools=tools\n",
    ")\n",
    "\n",
    "print(response.message.content[0].text)"
   ]
  },
  {
   "cell_type": "code",
   "execution_count": 21,
   "metadata": {},
   "outputs": [
    {
     "data": {
      "text/plain": [
       "{'Pedro Sander': {'tel': 15456663258, 'mail': 'PedritoElSander@gmail.com'},\n",
       " 'Flavio Oncativo': {'tel': 1545554178, 'mail': 'FOncativo@hotmail.com'}}"
      ]
     },
     "execution_count": 21,
     "metadata": {},
     "output_type": "execute_result"
    }
   ],
   "source": [
    "contacts"
   ]
  },
  {
   "cell_type": "code",
   "execution_count": 22,
   "metadata": {},
   "outputs": [],
   "source": [
    "def process_contact_query(user_input, model=\"command-r-plus-08-2024\", cohere_client=None):\n",
    "    \"\"\"\n",
    "    Process a user query related to contact management using Cohere's LLM.\n",
    "    \n",
    "    Args:\n",
    "        user_input (str): The user's query or request\n",
    "        model (str): The Cohere model to use\n",
    "        cohere_client: The initialized Cohere client\n",
    "        \n",
    "    Returns:\n",
    "        dict: Contains the response information and status\n",
    "    \"\"\"\n",
    "    try:\n",
    "        # Validate inputs\n",
    "        if not cohere_client:\n",
    "            raise ValueError(\"Cohere client is required\")\n",
    "        if not user_input.strip():\n",
    "            raise ValueError(\"User input cannot be empty\")\n",
    "\n",
    "        # Define tools and functions\n",
    "        tools = [\n",
    "            {\n",
    "                \"type\": \"function\",\n",
    "                \"function\": {\n",
    "                    \"name\": \"add_contact\",\n",
    "                    \"description\": \"Adds a contact to the directory.\",\n",
    "                    \"parameters\": {\n",
    "                        \"type\": \"object\",\n",
    "                        \"properties\": {\n",
    "                            \"name\": {\n",
    "                                \"type\": \"string\",\n",
    "                                \"description\": \"Contact's name.\"\n",
    "                            },\n",
    "                            \"phone\": {\n",
    "                                \"type\": \"string\",\n",
    "                                \"description\": \"Contact's phone number.\"\n",
    "                            },\n",
    "                            \"email\": {\n",
    "                                \"type\": \"string\",\n",
    "                                \"description\": \"Contact's email address.\"\n",
    "                            }\n",
    "                        },\n",
    "                        \"required\": [\"name\", \"phone\", \"email\"]\n",
    "                    }\n",
    "                }\n",
    "            },\n",
    "            {\n",
    "                \"type\": \"function\",\n",
    "                \"function\": {\n",
    "                    \"name\": \"get_information\",\n",
    "                    \"description\": \"Retrieves contact information.\",\n",
    "                    \"parameters\": {\n",
    "                        \"type\": \"object\",\n",
    "                        \"properties\": {\n",
    "                            \"name\": {\n",
    "                                \"type\": \"string\",\n",
    "                                \"description\": \"Contact's name.\"\n",
    "                            }\n",
    "                        },\n",
    "                        \"required\": [\"name\"]\n",
    "                    }\n",
    "                }\n",
    "            }\n",
    "        ]\n",
    "\n",
    "        functions_map = {\n",
    "            \"add_contact\": add_contact,\n",
    "            \"get_information\": get_information\n",
    "        }\n",
    "\n",
    "        system_prompt = \"\"\"You are an assistant specialized in managing a contact directory and answering related queries.\n",
    "        Your capabilities include:\n",
    "        - Adding new contacts with their name, phone number, and email\n",
    "        - Retrieving contact information\n",
    "        - Answering questions about stored contacts\n",
    "        - Using search tools when necessary to verify information\n",
    "        Contact information must include:\n",
    "        - Name (required)\n",
    "        - Phone number (required)\n",
    "        - Email address (required)\n",
    "        - Additional notes (optional)\n",
    "        You will maintain data privacy and only share contact information with authorized users.\"\"\"\n",
    "\n",
    "        # Initialize messages\n",
    "        messages = [\n",
    "            {\"role\": \"system\", \"content\": system_prompt},\n",
    "            {\"role\": \"user\", \"content\": user_input}\n",
    "        ]\n",
    "\n",
    "        # Get initial response from Cohere\n",
    "        response = cohere_client.chat(\n",
    "            model=model,\n",
    "            messages=messages,\n",
    "            tools=tools\n",
    "        )\n",
    "\n",
    "        # Process the response\n",
    "        if response.message.tool_calls:\n",
    "            messages.append({\n",
    "                'role': 'assistant',\n",
    "                'tool_calls': response.message.tool_calls,\n",
    "                'tool_plan': response.message.tool_plan\n",
    "            })\n",
    "\n",
    "            # Process tool calls\n",
    "            tool_results = []\n",
    "            for tool_call in response.message.tool_calls:\n",
    "                # Execute the function\n",
    "                function_name = tool_call.function.name\n",
    "                function_args = json.loads(tool_call.function.arguments)\n",
    "                tool_result = functions_map[function_name](**function_args)\n",
    "\n",
    "                # Format the result\n",
    "                tool_content = []\n",
    "                for data in tool_result.items():\n",
    "                    tool_content.append({\n",
    "                        \"type\": \"document\",\n",
    "                        \"document\": {\"data\": json.dumps(data)}\n",
    "                    })\n",
    "\n",
    "                # Store results\n",
    "                tool_results.append({\n",
    "                    \"tool_call_id\": tool_call.id,\n",
    "                    \"content\": tool_content\n",
    "                })\n",
    "                messages.append({\n",
    "                    \"role\": \"tool\",\n",
    "                    \"tool_call_id\": tool_call.id,\n",
    "                    \"content\": tool_content\n",
    "                })\n",
    "\n",
    "            # Get final response from Cohere with tool results\n",
    "            final_response = cohere_client.chat(\n",
    "                model=model,\n",
    "                messages=messages\n",
    "            )\n",
    "\n",
    "            return {\n",
    "                \"status\": \"success\",\n",
    "                \"type\": \"tool_response\",\n",
    "                \"message\": final_response.message.content[0].text,\n",
    "                \"tool_results\": tool_results\n",
    "            }\n",
    "        else:\n",
    "            return {\n",
    "                \"status\": \"success\",\n",
    "                \"type\": \"direct_response\",\n",
    "                \"message\": response.message.content[0].text\n",
    "            }\n",
    "\n",
    "    except Exception as e:\n",
    "        return {\n",
    "            \"status\": \"error\",\n",
    "            \"message\": str(e),\n",
    "            \"type\": \"error\"\n",
    "        }"
   ]
  },
  {
   "cell_type": "code",
   "execution_count": 23,
   "metadata": {},
   "outputs": [
    {
     "name": "stdout",
     "output_type": "stream",
     "text": [
      "Flavio Oncativo's email is FOncativo@hotmail.com.\n",
      "Tool Results: [{'tool_call_id': 'get_information_br48nqn1aknq', 'content': [{'type': 'document', 'document': {'data': '[\"tel\", 1545554178]'}}, {'type': 'document', 'document': {'data': '[\"mail\", \"FOncativo@hotmail.com\"]'}}]}]\n"
     ]
    }
   ],
   "source": [
    "user_input = \"Tell me Flavio Oncativo email.\"\n",
    "result = process_contact_query(user_input, cohere_client=co)\n",
    "\n",
    "if result[\"status\"] == \"success\":\n",
    "    print(result[\"message\"])\n",
    "    if result[\"type\"] == \"tool_response\":\n",
    "        print(\"Tool Results:\", result[\"tool_results\"])\n",
    "else:\n",
    "    print(\"Error:\", result[\"message\"])"
   ]
  },
  {
   "cell_type": "markdown",
   "metadata": {},
   "source": [
    "## Example n° 3: Story-Based Q&A"
   ]
  },
  {
   "cell_type": "markdown",
   "metadata": {},
   "source": [
    "The \"story_answer\" function takes a question about a given context as input and outputs a response generated by an LLM. The function allows users to ask questions about a story and receives responses following these specific requirements:\n",
    "Response Specifications:\n",
    "\n",
    "- Answers must be based strictly on the provided story\n",
    "- Must provide consistent answers for identical questions\n",
    "- Responses limited to one sentence\n",
    "- Response language matches the question's language (English, Spanish, or Portuguese)\n",
    "- Must include relevant emojis that summarize the response content\n",
    "- All responses written in third person\n",
    "- Default response \"Sorry, I cannot help you with that\" for off-topic questions\n",
    " -Every response must end with \"Hakuna Matata!\" regardless of language or token count"
   ]
  },
  {
   "cell_type": "code",
   "execution_count": 24,
   "metadata": {},
   "outputs": [],
   "source": [
    "story = \"\"\"In the ancient world of Greek mythology, the hero Perseus was known for his courage and determination. His most famous adventure began when King Polydectes of Seriphos sent him on an impossible quest: to slay the Gorgon Medusa and bring back her head.\n",
    "\n",
    "Medusa was once a beautiful maiden, but she had been cursed by the goddess Athena and transformed into a monstrous creature with snakes for hair. Anyone who gazed directly into her eyes would be turned to stone. Armed with gifts from the gods—Hermes' winged sandals, Hades' helm of invisibility, Athena's polished shield, and a sharp, curved sword—Perseus set off on his perilous journey.\n",
    "\n",
    "Guided by the gods and the nymphs who provided him with vital tools, Perseus eventually found Medusa in her lair. Using Athena's shield as a mirror to avoid direct eye contact, he managed to approach the sleeping Gorgon. With one swift and precise strike, he decapitated Medusa, safely placing her head in a special bag to avoid its deadly gaze.\n",
    "\n",
    "On his way back, Perseus encountered many adventures, including rescuing the princess Andromeda from a sea monster. He used Medusa's head to turn the monster to stone, saving Andromeda and earning her love.\n",
    "\n",
    "Upon returning to Seriphos, Perseus presented Medusa's head to King Polydectes, who had been tormenting Perseus' mother. With a single glance, Medusa's gaze turned the tyrannical king and his followers to stone, freeing his mother from their grip.\n",
    "\n",
    "Perseus went on to have many more adventures, but the tale of his victory over Medusa remained his most legendary feat, celebrated in the annals of Greek mythology. Through bravery, divine assistance, and quick thinking, he became one of the greatest heroes in ancient tales.\"\"\""
   ]
  },
  {
   "cell_type": "code",
   "execution_count": 25,
   "metadata": {},
   "outputs": [],
   "source": [
    "def story_answer(answer):\n",
    "\n",
    "    cohere_client = cohere.ClientV2()\n",
    "    model = \"command-r-plus-08-2024\"\n",
    "    \n",
    "    system_prompt = f\"\"\"\n",
    "    You are a storyteller, and you have been tasked with answering questions about a precise story.\n",
    "    You have access to a specific story and you should answer question about it precisely.\n",
    "    You have no access to anything else but that story.\n",
    "    You should response using one sentence only.\n",
    "    You should response using the same language as the answer was written.\n",
    "    You are to respond to the questions in the third person. \n",
    "    You should add two emojis to sum up the sentence.\n",
    "    If the question has no relation to the story context, the answer should be 'I'm sorry I can't help you with that'.\n",
    "    Add 'Hakuna Matata!' always at the end of the sentence.\n",
    "\n",
    "    ## The story\n",
    "    {story}\n",
    "    \"\"\"\n",
    "\n",
    "    messages = [ \n",
    "        {\"role\": \"system\", \"content\": system_prompt}, \n",
    "        {\"role\": \"user\", \"content\": answer} \n",
    "        ]\n",
    "\n",
    "    # Get initial response from Cohere\n",
    "    response = cohere_client.chat(\n",
    "        model=model,\n",
    "        messages=messages\n",
    "        )\n",
    "    \n",
    "    # Add to messages\n",
    "    \n",
    "\n",
    "    return response.message.content[0].text"
   ]
  },
  {
   "cell_type": "code",
   "execution_count": 26,
   "metadata": {},
   "outputs": [
    {
     "data": {
      "text/plain": [
       "\"Medusa was a cursed maiden, transformed into a Gorgon with the power to turn people to stone, and she was the target of Perseus' quest. 🧜\\u200d♀️🐉 Hakuna Matata!\""
      ]
     },
     "execution_count": 26,
     "metadata": {},
     "output_type": "execute_result"
    }
   ],
   "source": [
    "story_answer(\"Who was Medusa?\")"
   ]
  },
  {
   "cell_type": "markdown",
   "metadata": {},
   "source": [
    "## Example n° 4: Creating a Simple LLM-Powered Chatbot"
   ]
  },
  {
   "cell_type": "markdown",
   "metadata": {},
   "source": [
    "This chatbot is designed for end users and generates responses with these specific characteristics:\n",
    "\n",
    "- Keeps all responses under 70 tokens\n",
    "- Maintains a positive and enthusiastic tone\n",
    "- Provides helpful advice in a tutor-like manner"
   ]
  },
  {
   "cell_type": "code",
   "execution_count": 28,
   "metadata": {},
   "outputs": [
    {
     "data": {
      "application/vnd.jupyter.widget-view+json": {
       "model_id": "67ddf3ed66984f56ad2fbdd0661d75c0",
       "version_major": 2,
       "version_minor": 0
      },
      "text/plain": [
       "Text(value='', placeholder='Escribe tu mensaje aquí...')"
      ]
     },
     "metadata": {},
     "output_type": "display_data"
    },
    {
     "data": {
      "application/vnd.jupyter.widget-view+json": {
       "model_id": "c116a617db004cfaa02fdbf3e3a68f9a",
       "version_major": 2,
       "version_minor": 0
      },
      "text/plain": [
       "Button(description='Enviar', style=ButtonStyle())"
      ]
     },
     "metadata": {},
     "output_type": "display_data"
    },
    {
     "data": {
      "application/vnd.jupyter.widget-view+json": {
       "model_id": "89ab1ded780e48c1b41cf07ca8f24282",
       "version_major": 2,
       "version_minor": 0
      },
      "text/plain": [
       "Output()"
      ]
     },
     "metadata": {},
     "output_type": "display_data"
    }
   ],
   "source": [
    "# Crear widgets de entrada y salida\n",
    "input_box = widgets.Text(placeholder='Escribe tu mensaje aquí...')\n",
    "send_button = widgets.Button(description='Enviar')\n",
    "output_box = widgets.Output()\n",
    "\n",
    "chat_history = [{\"role\": \"system\", \"content\":\"Responde con tono entusiasta y da consejos utiles.\"}]\n",
    "\n",
    "# Función de respuesta simulada del chatbot\n",
    "def chatbot_response(message):\n",
    "    chat_history.append({\"role\": \"user\", \"content\": message})\n",
    "    response = co.chat(\n",
    "        model=\"command-r-plus-08-2024\",\n",
    "        messages=chat_history,\n",
    "    )\n",
    "\n",
    "    # actualizo el historial\n",
    "    text_response = response.message.content[0].text\n",
    "    chat_history.append({\"role\": \"assistant\", \"content\": text_response})\n",
    "\n",
    "    return response.message.content[0].text\n",
    "\n",
    "# Función de manejo del botón\n",
    "def on_send_button_clicked(b):\n",
    "    with output_box:\n",
    "        clear_output(wait=True)\n",
    "        user_message = input_box.value\n",
    "        if user_message.strip():\n",
    "            print(f\"Tú: {user_message}\")\n",
    "            response = chatbot_response(user_message)\n",
    "            print(f\"Chatbot: {response}\")\n",
    "        input_box.value = ''\n",
    "\n",
    "# Asociar función al botón\n",
    "send_button.on_click(on_send_button_clicked)\n",
    "\n",
    "# Mostrar widgets\n",
    "display(input_box, send_button, output_box)"
   ]
  }
 ],
 "metadata": {
  "kernelspec": {
   "display_name": "venv",
   "language": "python",
   "name": "python3"
  },
  "language_info": {
   "codemirror_mode": {
    "name": "ipython",
    "version": 3
   },
   "file_extension": ".py",
   "mimetype": "text/x-python",
   "name": "python",
   "nbconvert_exporter": "python",
   "pygments_lexer": "ipython3",
   "version": "3.12.3"
  }
 },
 "nbformat": 4,
 "nbformat_minor": 2
}
